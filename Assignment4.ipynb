{
 "cells": [
  {
   "cell_type": "markdown",
   "id": "aa34a478-509e-460d-9ed1-446303cadb46",
   "metadata": {},
   "source": [
    "# Q.1. What exactly is []?"
   ]
  },
  {
   "cell_type": "markdown",
   "id": "37064009-7532-4eea-8d29-9e53cea4565c",
   "metadata": {},
   "source": [
    "Ans: The empty list value, which is a list value that contains no items. This is similar to how '' is the empty string value."
   ]
  },
  {
   "cell_type": "markdown",
   "id": "1d103e40-6a42-400d-beed-4155976df682",
   "metadata": {},
   "source": [
    "# Q.2. In a list of values stored in a variable called spam, how would you assign the value &#39;hello&#39; as the third value? (Assume [2, 4, 6, 8, 10] are in spam.) Let's pretend the spam includes the list ['a','b','c','d'] for the next three queries."
   ]
  },
  {
   "cell_type": "markdown",
   "id": "f8736d56-a12f-46d9-9103-0ca996e58a8a",
   "metadata": {},
   "source": [
    "Ans: spam[2] = 'hello' (Notice that the third value in a list is at index 2 because the first index is 0.)"
   ]
  },
  {
   "cell_type": "markdown",
   "id": "7bb8dd51-8c22-484f-946f-0970142f88e1",
   "metadata": {},
   "source": [
    "# Q.3. What is the value of spam[int(int(&#39;3&#39; * 2) / 11)]?"
   ]
  },
  {
   "cell_type": "markdown",
   "id": "a4a71178-c775-4bb3-a2e3-628fec78ef8e",
   "metadata": {},
   "source": [
    "Ans: 'd' (Note that '3' * 2 is the string '33', which is passed to int() before being divided by 11. This eventually evaluates to 3. Expressions can be used wherever values are used.)"
   ]
  },
  {
   "cell_type": "markdown",
   "id": "0e9bb660-6fa4-4ce3-8f8e-22f434f86761",
   "metadata": {},
   "source": [
    "# Q.4. What is the value of spam[-1]?"
   ]
  },
  {
   "cell_type": "markdown",
   "id": "eaf27165-f581-43a8-958b-b61f11c5a6cb",
   "metadata": {},
   "source": [
    "Ans: 'd' (Negative indexes count from the end.)"
   ]
  },
  {
   "cell_type": "markdown",
   "id": "08adbd1e-c2a5-4472-9d4c-5d4f64ccad32",
   "metadata": {},
   "source": [
    "# Q.5. What is the value of spam[:2]? Let&#39;s pretend bacon has the list [3.14, &#39;cat,&#39; 11, &#39;cat,&#39; True] for the next three questions."
   ]
  },
  {
   "cell_type": "markdown",
   "id": "d153262d-ae58-49a3-b0da-dd3f3ea072e1",
   "metadata": {},
   "source": [
    "Ans: ['a', 'b']"
   ]
  },
  {
   "cell_type": "markdown",
   "id": "9b0e32da-b522-46b2-ad5f-497ce5e849ef",
   "metadata": {},
   "source": [
    "# Q.6. What is the value of bacon.index(&#39;cat&#39;)?"
   ]
  },
  {
   "cell_type": "markdown",
   "id": "6ea65e8b-beec-42bd-b829-312963754485",
   "metadata": {},
   "source": [
    "Ans: 1"
   ]
  },
  {
   "cell_type": "markdown",
   "id": "c778db3c-f25e-4684-8220-4237ae785989",
   "metadata": {},
   "source": [
    "# Q.7. How does bacon.append(99) change the look of the list value in bacon?"
   ]
  },
  {
   "cell_type": "code",
   "execution_count": null,
   "id": "9fa02c30-74e1-4669-b19c-71fe9e63f30b",
   "metadata": {},
   "outputs": [],
   "source": [
    "Ans: "
   ]
  },
  {
   "cell_type": "markdown",
   "id": "ff7cb2d2-2b12-4e0b-bab0-9234129cc15e",
   "metadata": {},
   "source": [
    "# Q.8. How does bacon.remove(&#39;cat&#39;) change the look of the list in bacon?"
   ]
  },
  {
   "cell_type": "markdown",
   "id": "8c6f6314-0336-45aa-b996-e520443193bc",
   "metadata": {},
   "source": [
    "Ans: [3.14, 11, 'cat', True]"
   ]
  },
  {
   "cell_type": "markdown",
   "id": "9ff7fc4d-7d0f-4fd2-bb82-04948c7916e9",
   "metadata": {},
   "source": [
    "# Q.9. What are the list concatenation and list replication operators?"
   ]
  },
  {
   "cell_type": "markdown",
   "id": "6a722148-ee4c-439d-8b39-b2c42e648775",
   "metadata": {},
   "source": [
    "Ans: The operator for list concatenation is +, while the operator for replication is *. (This is the same as for strings.)\n"
   ]
  },
  {
   "cell_type": "markdown",
   "id": "b8136714-31d0-440e-92c8-59c926fc3f5c",
   "metadata": {},
   "source": [
    "# Q.10. What is difference between the list methods append() and insert()?"
   ]
  },
  {
   "cell_type": "markdown",
   "id": "c3c484ce-61f5-4d09-b24c-aa50eedceeb9",
   "metadata": {},
   "source": [
    "Ans: While append() will add values only to the end of a list, insert() can add them anywhere in the list."
   ]
  },
  {
   "cell_type": "markdown",
   "id": "f5a5ec7f-9902-4843-bbf1-17cb1e14c410",
   "metadata": {},
   "source": [
    "# Q.11. What are the two methods for removing items from a list?"
   ]
  },
  {
   "cell_type": "markdown",
   "id": "157aca3e-f720-42ca-a814-c210c42559cc",
   "metadata": {},
   "source": [
    "Ans: The del statement and the remove() list method are two ways to remove values from a list."
   ]
  },
  {
   "cell_type": "markdown",
   "id": "2469470f-cd99-47f1-b73f-89c3ae73934e",
   "metadata": {},
   "source": [
    "# Q.12. Describe how list values and string values are identical."
   ]
  },
  {
   "cell_type": "markdown",
   "id": "472607bb-8bc7-4168-8fe3-8e2334212c04",
   "metadata": {},
   "source": [
    "Ans: Both lists and strings can be passed to len(), have indexes and slices, be used in for loops, be concatenated or replicated, and be used with the in and not in operators."
   ]
  },
  {
   "cell_type": "markdown",
   "id": "e911324b-ffa1-47ef-a6c3-73e772e0362a",
   "metadata": {},
   "source": [
    "# Q.13. What&#39;s the difference between tuples and lists?"
   ]
  },
  {
   "cell_type": "markdown",
   "id": "e572fd69-3e92-4d2d-a5d4-598cb8fe973b",
   "metadata": {},
   "source": [
    "Ans: Lists are mutable; they can have values added, removed, or changed. Tuples are immutable; they cannot be changed at all. Also, tuples are written using parentheses, ( and ), while lists use the square brackets, [ and ]."
   ]
  },
  {
   "cell_type": "markdown",
   "id": "d0a83cd4-d936-4924-a0ba-ef2c6292a882",
   "metadata": {},
   "source": [
    "# Q.14. How do you type a tuple value that only contains the integer 42?"
   ]
  },
  {
   "cell_type": "markdown",
   "id": "d244dff5-7189-4679-b9f7-41c8bae515b1",
   "metadata": {},
   "source": [
    "Ans: (42,) (The trailing comma is mandatory.)"
   ]
  },
  {
   "cell_type": "markdown",
   "id": "f4f06031-4a5d-451d-a5b0-3b53f94feb0b",
   "metadata": {},
   "source": [
    "# Q.15. How do you get a list value&#39;s tuple form? How do you get a tuple value&#39;s list form?"
   ]
  },
  {
   "cell_type": "markdown",
   "id": "a7d92ffd-a78d-4537-8405-b4ca76def2bb",
   "metadata": {},
   "source": [
    "Ans: The tuple() and list() functions, respectively"
   ]
  },
  {
   "cell_type": "markdown",
   "id": "02706ca9-0995-4f11-a107-835fe437c0c4",
   "metadata": {},
   "source": [
    "# Q.16. Variables that &quot;contain&quot; list values are not necessarily lists themselves. Instead, what do they contain?"
   ]
  },
  {
   "cell_type": "markdown",
   "id": "5bcafd98-9fff-4903-be44-63aaab0615a7",
   "metadata": {},
   "source": [
    "Ans: They contain references to list values."
   ]
  },
  {
   "cell_type": "markdown",
   "id": "d15ee7fe-4818-4449-81fb-0b53c74e718d",
   "metadata": {},
   "source": [
    "# Q.17. How do you distinguish between copy.copy() and copy.deepcopy()?"
   ]
  },
  {
   "cell_type": "markdown",
   "id": "90acf9ad-623b-4891-aa43-715a9fe7e68a",
   "metadata": {},
   "source": [
    "Ans: The copy.copy() function will do a shallow copy of a list, while the copy.deepcopy() function will do a deep copy of a list. That is, only copy.deepcopy() will duplicate any lists inside the list.\n",
    "\n",
    "\n"
   ]
  }
 ],
 "metadata": {
  "kernelspec": {
   "display_name": "Python 3 (ipykernel)",
   "language": "python",
   "name": "python3"
  },
  "language_info": {
   "codemirror_mode": {
    "name": "ipython",
    "version": 3
   },
   "file_extension": ".py",
   "mimetype": "text/x-python",
   "name": "python",
   "nbconvert_exporter": "python",
   "pygments_lexer": "ipython3",
   "version": "3.10.6"
  }
 },
 "nbformat": 4,
 "nbformat_minor": 5
}
